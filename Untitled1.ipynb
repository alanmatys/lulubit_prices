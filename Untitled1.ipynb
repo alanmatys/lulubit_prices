{
 "cells": [
  {
   "cell_type": "markdown",
   "id": "77e1aeee-0254-408e-855c-09530688f67f",
   "metadata": {},
   "source": [
    "# Optimizacion de precio\n",
    "\n",
    "El objetivo es lograr una optimizacion de Mark-Up en precio que nos permita maximizar el objetivo deseado.\n",
    "Los objetivos pueden ser:\n",
    "- Maximizar la Conversion de usuarios\n",
    "- Maximizar la Ganancia Esperada\n",
    "- Etc\n",
    "\n",
    "Para poder lograr una correcta optimizacion del precio necesitamos encontrar su ***Elasticidad***."
   ]
  },
  {
   "cell_type": "markdown",
   "id": "fca2ddf3-3a59-40ea-b396-de4b86ab131c",
   "metadata": {
    "tags": []
   },
   "source": [
    "## Definicion Elasticidad\n",
    "\n",
    "Digamos que tenemos un bien que se vende en el mercado. Supongamos que tenemos una función de demanda:\n",
    "\n",
    "$ \\hat{Y} = \\hat{\\beta}_{0} + \\sum \\limits _{j=1} ^{p} X_{j}\\hat{\\beta}_{j} $"
   ]
  },
  {
   "cell_type": "markdown",
   "id": "dc2c08c8-dfe6-4f57-aa29-8e8857dfa5e3",
   "metadata": {},
   "source": [
    "Ante este problema es posible modelar la elasticidad de un bien ante un cambio o variacion de precio\n",
    "\n",
    "Primero se deben definir:\n",
    "- **Visitas**: Usuarios que ingresaron\n",
    "- **Usuarios**: Usuarios que ingresaron y pudieron ver el precio del bien determinado\n",
    "- **Compras**: Como los usuarios que compraron a ese precio determinado\n",
    "- **Conversion** (CVR): Ratio entre  $ \\frac {Compras}{Visitas}$\n"
   ]
  },
  {
   "cell_type": "markdown",
   "id": "21eb4f4e-0151-4dd7-a42e-2895777f23b7",
   "metadata": {},
   "source": [
    "## AB Testing\n",
    "\n",
    "Basado en las definiciones anteriores, se plantea la posbilidad de estimar la elasticidad basado en la *Conversion*.\n",
    "\n",
    "Pero para poder realizar esto se debe contar con un minimo de dos puntos de precio para poder conoer la pendiente de la curva de isoelastica\n",
    "\n",
    "**Por esto es que se plantea realizar un AB Test**\n",
    "\n",
    "### Formula\n",
    "Para estimar la elastidad \n",
    "\n",
    "\n",
    "$ \\hat{Elasticidad} =\\frac {\\ln (\\frac {\\hat{\\CVR}_{A} - \\hat{\\CVR}_{B}} {\\hat{\\CVR}_{A}})} {\\ln(\\frac {{Mkp}_{A}} {{Mkp}_{B}})}$\n",
    "\n",
    "$CVR$\n",
    "\n",
    "Por ley de los grandes numeros la proporcion con una distribucion de poisson tiende a una normal lo que nos permite estimar intervalos para nuestro estimador puntual de ***Elasticidad***\n",
    "\n",
    "Ante un cierto nivel de confianza: $ \\alpha = 5% $ "
   ]
  }
 ],
 "metadata": {
  "kernelspec": {
   "display_name": "Python 3 (ipykernel)",
   "language": "python",
   "name": "python3"
  },
  "language_info": {
   "codemirror_mode": {
    "name": "ipython",
    "version": 3
   },
   "file_extension": ".py",
   "mimetype": "text/x-python",
   "name": "python",
   "nbconvert_exporter": "python",
   "pygments_lexer": "ipython3",
   "version": "3.10.4"
  }
 },
 "nbformat": 4,
 "nbformat_minor": 5
}
