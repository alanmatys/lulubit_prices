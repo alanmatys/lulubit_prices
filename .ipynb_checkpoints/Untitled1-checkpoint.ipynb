{
 "cells": [
  {
   "cell_type": "markdown",
   "id": "77e1aeee-0254-408e-855c-09530688f67f",
   "metadata": {},
   "source": [
    "# Optimizacion de precio\n",
    "\n",
    "El objetivo es lograr una optimizacion de Mark-Up en precio que nos permita maximizar el objetivo deseado.\n",
    "Los objetivos pueden ser:\n",
    "- Maximizar la Conversion de usuarios\n",
    "- Maximizar la Ganancia Esperada\n",
    "- Etc\n",
    "\n",
    "Para poder lograr una correcta optimizacion del precio necesitamos encontrar su ***Elasticidad***."
   ]
  },
  {
   "cell_type": "markdown",
   "id": "fca2ddf3-3a59-40ea-b396-de4b86ab131c",
   "metadata": {
    "tags": []
   },
   "source": [
    "## Definicion Elasticidad\n",
    "\n",
    "Digamos que tenemos un bien que se vende en el mercado. Supongamos que tenemos una función de demanda:\n",
    "\n",
    "$ \\hat{Y} = \\hat{\\beta}_{0} + \\sum \\limits _{j=1} ^{p} X_{j}\\hat{\\beta}_{j} $"
   ]
  }
 ],
 "metadata": {
  "kernelspec": {
   "display_name": "Python 3 (ipykernel)",
   "language": "python",
   "name": "python3"
  },
  "language_info": {
   "codemirror_mode": {
    "name": "ipython",
    "version": 3
   },
   "file_extension": ".py",
   "mimetype": "text/x-python",
   "name": "python",
   "nbconvert_exporter": "python",
   "pygments_lexer": "ipython3",
   "version": "3.10.4"
  }
 },
 "nbformat": 4,
 "nbformat_minor": 5
}
